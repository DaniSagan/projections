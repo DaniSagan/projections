{
 "metadata": {
  "name": "",
  "signature": "sha256:1fec112c09d8cb7a4a96deb7ecf90494d6bacdc5da00422692c08a4936943025"
 },
 "nbformat": 3,
 "nbformat_minor": 0,
 "worksheets": [
  {
   "cells": [
    {
     "cell_type": "code",
     "collapsed": false,
     "input": [
      "from vec3 import Vec3\n",
      "from vec2 import Vec2\n",
      "from view import View\n",
      "from line import Line, Direction\n",
      "from view import View\n",
      "import utils\n",
      "%matplotlib inline\n",
      "import matplotlib\n",
      "import numpy as np\n",
      "import matplotlib.pyplot as plt"
     ],
     "language": "python",
     "metadata": {},
     "outputs": [],
     "prompt_number": 1
    },
    {
     "cell_type": "code",
     "collapsed": false,
     "input": [
      "v = View(100)\n",
      "v.project(Vec3(200, 400, -500))"
     ],
     "language": "python",
     "metadata": {},
     "outputs": [
      {
       "metadata": {},
       "output_type": "pyout",
       "prompt_number": 2,
       "text": [
        "40, 80"
       ]
      }
     ],
     "prompt_number": 2
    },
    {
     "cell_type": "code",
     "collapsed": false,
     "input": [
      "square = [Vec3(-400, -200, -1400), \n",
      "          Vec3(-400, -200, -1800), \n",
      "          Vec3(-400, 200, -1800) , \n",
      "          Vec3(-400, 200, -1400), \n",
      "          Vec3(-400, -200, -1400)]"
     ],
     "language": "python",
     "metadata": {},
     "outputs": [],
     "prompt_number": 3
    },
    {
     "cell_type": "code",
     "collapsed": false,
     "input": [
      "proj_square = map(lambda p: v.project(p), square)"
     ],
     "language": "python",
     "metadata": {},
     "outputs": [],
     "prompt_number": 4
    },
    {
     "cell_type": "code",
     "collapsed": false,
     "input": [
      "s2 = map(lambda p: p.rotate(Vec3(0,0,1), utils.to_radians(60)), square)\n",
      "s2 = map(lambda p: p.rotate(Vec3(0,1,0), -0.3), s2)\n",
      "s2 = map(lambda p: p.rotate(Vec3(1,0,0), -0.3), s2)\n",
      "ps2 = map(lambda p: v.project(p), s2)"
     ],
     "language": "python",
     "metadata": {},
     "outputs": [],
     "prompt_number": 5
    },
    {
     "cell_type": "code",
     "collapsed": false,
     "input": [
      "plt.figure()\n",
      "plt.plot([p.x for p in proj_square], [p.y for p in proj_square])\n",
      "plt.plot([p.x for p in ps2], [p.y for p in ps2], color='red')\n",
      "plt.axis('equal')\n",
      "plt.show()"
     ],
     "language": "python",
     "metadata": {},
     "outputs": [
      {
       "metadata": {},
       "output_type": "display_data",
       "png": "[encoded data removed]",
       "text": [
        "<matplotlib.figure.Figure at 0x7fb124e35f90>"
       ]
      }
     ],
     "prompt_number": 6
    }
   ],
   "metadata": {}
  }
 ]
}