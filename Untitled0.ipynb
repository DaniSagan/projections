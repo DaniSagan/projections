{
 "worksheets": [
  {
   "cells": [
    {
     "cell_type": "code",
     "execution_count": null,
     "metadata": {},
     "outputs": [],
     "input": [
      "import subprocess"
     ],
     "language": "python",
     "prompt_number": 1
    },
    {
     "cell_type": "code",
     "execution_count": null,
     "metadata": {},
     "outputs": [
      {
       "output_type": "stream",
       "stream": "stdout",
       "text": [
        ">> ls\n"
       ]
      },
      {
       "output_type": "stream",
       "stream": "stdout",
       "text": [
        "Untitled0.ipynb\n",
        "line.py\n",
        "line.pyc\n",
        "low_poly_express_ship.obj\n",
        "monkey.obj\n",
        "projections.ipynb\n",
        "projections.py\n",
        "shapes.py\n",
        "shapes.pyc\n",
        "sphere.obj\n",
        "test.py\n",
        "transform.py\n",
        "transform.pyc\n",
        "utils.py\n",
        "utils.pyc\n",
        "vec2.py\n",
        "vec2.pyc\n",
        "vec3.py\n",
        "vec3.pyc\n",
        "view.py\n",
        "view.pyc\n",
        "\n",
        "\n"
       ]
      },
      {
       "output_type": "stream",
       "stream": "stdout",
       "text": [
        ">> exit\n"
       ]
      }
     ],
     "input": [
      "done = False\n",
      "while not done:\n",
      "    cmd = raw_input('>> ')\n",
      "    if cmd == 'exit':\n",
      "        done = True\n",
      "    else:\n",
      "        process = subprocess.Popen(cmd, shell=True,\n",
      "                                   stdout=subprocess.PIPE, \n",
      "                                   stderr=subprocess.PIPE)\n",
      "\n",
      "        # wait for the process to terminate\n",
      "        out, err = process.communicate()\n",
      "        errcode = process.returncode\n",
      "\n",
      "        print(out)\n",
      "        print(err)"
     ],
     "language": "python",
     "prompt_number": 2
    },
    {
     "cell_type": "code",
     "execution_count": null,
     "metadata": {},
     "outputs": [],
     "input": [
      "import PIL"
     ],
     "language": "python",
     "prompt_number": 3
    }
   ]
  }
 ],
 "cells": [],
 "metadata": {
  "name": "",
  "signature": "sha256:46da31d8177c0bb7692d8518c3f6a096370c91466c93ba84c4cf13ca07de4fce"
 },
 "nbformat": 3,
 "nbformat_minor": 0
}