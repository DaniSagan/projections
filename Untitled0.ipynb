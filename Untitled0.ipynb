{
 "metadata": {
  "name": "",
  "signature": "sha256:e9abce871aaa1e699110a2bafc49b5e41d1f8c48d102ed5308489f61c182f55b"
 },
 "nbformat": 3,
 "nbformat_minor": 0,
 "worksheets": [
  {
   "cells": [
    {
     "cell_type": "code",
     "collapsed": false,
     "input": [
      "import subprocess\n",
      "\n",
      "while True:\n",
      "    cmd = raw_input('>> ')\n",
      "    process = subprocess.Popen(cmd, shell=True,\n",
      "                               stdout=subprocess.PIPE, \n",
      "                               stderr=subprocess.PIPE)\n",
      "\n",
      "    # wait for the process to terminate\n",
      "    out, err = process.communicate()\n",
      "    errcode = process.returncode\n",
      "\n",
      "    print(out)\n",
      "    print(err)"
     ],
     "language": "python",
     "metadata": {},
     "outputs": [
      {
       "name": "stdout",
       "output_type": "stream",
       "stream": "stdout",
       "text": [
        ">> git --version\n"
       ]
      },
      {
       "output_type": "stream",
       "stream": "stdout",
       "text": [
        "git version 1.7.1\n",
        "\n",
        "\n"
       ]
      },
      {
       "name": "stdout",
       "output_type": "stream",
       "stream": "stdout",
       "text": [
        ">> echo `pwd`\n"
       ]
      },
      {
       "output_type": "stream",
       "stream": "stdout",
       "text": [
        "/user_home/w_DaniSagan/projections\n",
        "\n",
        "\n"
       ]
      }
     ]
    },
    {
     "cell_type": "code",
     "collapsed": false,
     "input": [
      "print(out)\n",
      "print(err)"
     ],
     "language": "python",
     "metadata": {},
     "outputs": [
      {
       "output_type": "stream",
       "stream": "stdout",
       "text": [
        "git version 1.7.1\n",
        "\n",
        "\n"
       ]
      }
     ],
     "prompt_number": 3
    }
   ],
   "metadata": {}
  }
 ]
}